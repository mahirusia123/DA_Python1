{
 "cells": [
  {
   "cell_type": "markdown",
   "id": "86540e60",
   "metadata": {},
   "source": [
    "# file Handling"
   ]
  },
  {
   "cell_type": "markdown",
   "id": "eec126e0",
   "metadata": {},
   "source": [
    "## Read Operation"
   ]
  },
  {
   "cell_type": "markdown",
   "id": "f2902567",
   "metadata": {},
   "source": [
    "##### Perform only Read Operation- file Must be exist,else error."
   ]
  },
  {
   "cell_type": "markdown",
   "id": "fd36e6a2-49c1-434e-ba22-37317a08b9d7",
   "metadata": {},
   "source": [
    "## Read file in any location"
   ]
  },
  {
   "cell_type": "code",
   "execution_count": 12,
   "id": "e0c4c157-e80a-41b7-84f1-7cf0b8bf096c",
   "metadata": {},
   "outputs": [
    {
     "name": "stdout",
     "output_type": "stream",
     "text": [
      "Hello Class \n",
      "\n",
      "Today we Learn Python\n"
     ]
    }
   ],
   "source": [
    "file = open(r'C:\\Users\\Kartik\\OneDrive\\Desktop\\Python_upload_file.txt', 'r')\n",
    "content = file.read()\n",
    "print(content)\n",
    "file.close()"
   ]
  },
  {
   "cell_type": "markdown",
   "id": "9dbadefa-0aa1-4f90-a266-9cdb213d782f",
   "metadata": {},
   "source": [
    "## Read File using Uploading method"
   ]
  },
  {
   "cell_type": "code",
   "execution_count": 10,
   "id": "fac5bb8a-200a-42fd-9112-45d210302ea5",
   "metadata": {},
   "outputs": [
    {
     "name": "stdout",
     "output_type": "stream",
     "text": [
      "Hello Class \n",
      "\n",
      "Today we Learn Python\n"
     ]
    }
   ],
   "source": [
    "# Reading the entire file \n",
    "file = open(r'C:\\Users\\Kartik\\OneDrive\\Desktop\\Python_upload_file.txt','r')\n",
    "content=file.read()\n",
    "print(content)\n",
    "file.close()"
   ]
  },
  {
   "cell_type": "code",
   "execution_count": null,
   "id": "7e81a521-82a2-410f-8d17-097ccb544549",
   "metadata": {},
   "outputs": [],
   "source": []
  },
  {
   "cell_type": "code",
   "execution_count": 8,
   "id": "7fc5a227",
   "metadata": {},
   "outputs": [
    {
     "name": "stdout",
     "output_type": "stream",
     "text": [
      "Hello Class we are study python\n",
      "\n",
      "in this Leacture \n"
     ]
    }
   ],
   "source": [
    "# Reading the entire file \n",
    "file = open('test_file.txt','r')\n",
    "content=file.read()\n",
    "print(content)\n",
    "file.close()"
   ]
  },
  {
   "cell_type": "code",
   "execution_count": 9,
   "id": "b4d1f2e2-accd-449a-8e33-6a7587fffb4d",
   "metadata": {},
   "outputs": [
    {
     "name": "stdout",
     "output_type": "stream",
     "text": [
      "Hello Class \n",
      "\n",
      "Today we Learn Python\n"
     ]
    }
   ],
   "source": [
    "# Reading the entire file \n",
    "file = open(r'C:\\Users\\Kartik\\OneDrive\\Desktop\\Python_upload_file.txt','r')\n",
    "content=file.read()\n",
    "print(content)\n",
    "file.close()"
   ]
  },
  {
   "cell_type": "code",
   "execution_count": null,
   "id": "1a40d3ad-b9be-48d5-b72f-bac3782f6f54",
   "metadata": {},
   "outputs": [],
   "source": []
  },
  {
   "cell_type": "code",
   "execution_count": 39,
   "id": "7cda4a85-fd8d-4eaf-b5c2-6adf104cf2e3",
   "metadata": {},
   "outputs": [
    {
     "name": "stdout",
     "output_type": "stream",
     "text": [
      "Hello Class \n",
      "\n",
      "Today we Learn Python\n"
     ]
    }
   ],
   "source": [
    "# Reading the entire file \n",
    "file = open(r'C:\\Users\\Kartik\\OneDrive\\Desktop\\Python_upload_file.txt','r')\n",
    "content=file.read()\n",
    "print(content)\n",
    "file.close()"
   ]
  },
  {
   "cell_type": "code",
   "execution_count": null,
   "id": "ff51a4df-bb95-4119-a51e-5a0fb2e701d7",
   "metadata": {},
   "outputs": [],
   "source": []
  },
  {
   "cell_type": "code",
   "execution_count": 41,
   "id": "fe9d910c",
   "metadata": {},
   "outputs": [
    {
     "name": "stdout",
     "output_type": "stream",
     "text": [
      "Alok\n",
      "Sachin\n",
      "\n",
      "My name is alok\n"
     ]
    }
   ],
   "source": [
    "# Reading the entire file \n",
    "file = open('Data.txt','r')\n",
    "print(file.read())\n",
    "file.close()"
   ]
  },
  {
   "cell_type": "code",
   "execution_count": 34,
   "id": "f361e02f",
   "metadata": {},
   "outputs": [
    {
     "name": "stdout",
     "output_type": "stream",
     "text": [
      "Hello Class \n",
      "\n"
     ]
    }
   ],
   "source": [
    "# Reading the single line\n",
    "file=open('Data2.txt','r')\n",
    "l=file.readline()\n",
    "print(l)\n",
    "file.close()"
   ]
  },
  {
   "cell_type": "code",
   "execution_count": 42,
   "id": "a45829df",
   "metadata": {},
   "outputs": [
    {
     "name": "stdout",
     "output_type": "stream",
     "text": [
      "Alok\n",
      "\n",
      "Sachin\n",
      "\n",
      "\n",
      "\n",
      "My name is alok\n"
     ]
    }
   ],
   "source": [
    "# Reading all line\n",
    "file= open('Data.txt','r')\n",
    "lines=file.readlines()\n",
    "for line in lines:\n",
    "    print(line)\n",
    "file.close()"
   ]
  },
  {
   "cell_type": "code",
   "execution_count": 45,
   "id": "fa6b2d9d",
   "metadata": {},
   "outputs": [
    {
     "name": "stdout",
     "output_type": "stream",
     "text": [
      "Alok\n",
      "\n",
      "Sa\n",
      "chin\n",
      "\n"
     ]
    }
   ],
   "source": [
    "# Reading first line  and 2 charater of second line\n",
    "file=open('Data.txt','r')\n",
    "print(file.readline())\n",
    "print(file.readline(2))\n",
    "print(file.readline())\n",
    "file.close()"
   ]
  },
  {
   "cell_type": "code",
   "execution_count": 17,
   "id": "83655e0b",
   "metadata": {},
   "outputs": [
    {
     "name": "stdout",
     "output_type": "stream",
     "text": [
      "Alo\n"
     ]
    }
   ],
   "source": [
    "# Reading first 3 character of single line\n",
    "file=open('Data.txt','r')\n",
    "l=file.readline(3)\n",
    "print(l)\n",
    "file.close()"
   ]
  },
  {
   "cell_type": "code",
   "execution_count": 18,
   "id": "c6ee14ad-cf87-41b3-a636-f53bb696ed28",
   "metadata": {},
   "outputs": [
    {
     "name": "stdout",
     "output_type": "stream",
     "text": [
      "Alo\n"
     ]
    }
   ],
   "source": [
    "file=open('Data.txt','r')\n",
    "l=file.readline(3)\n",
    "print(l)\n",
    "file.close()"
   ]
  },
  {
   "cell_type": "markdown",
   "id": "b1c108f3",
   "metadata": {},
   "source": [
    "## Write operation"
   ]
  },
  {
   "cell_type": "markdown",
   "id": "e0a0c779",
   "metadata": {},
   "source": [
    "#### Perform only write Operation- If file exist - overwrite if Not, create new file."
   ]
  },
  {
   "cell_type": "markdown",
   "id": "fb078f54-3d7c-4feb-8c1e-bac3dd0a9985",
   "metadata": {},
   "source": []
  },
  {
   "cell_type": "code",
   "execution_count": 15,
   "id": "7d77fa25-0089-4730-b7a3-46ff7f262f05",
   "metadata": {},
   "outputs": [
    {
     "name": "stdout",
     "output_type": "stream",
     "text": [
      "and come with my bikeaptopy python\n",
      "in vector skill academy and our trainer is Alok Sir\n"
     ]
    }
   ],
   "source": []
  },
  {
   "cell_type": "markdown",
   "id": "2d6659f4-1194-42a2-bed7-ddbb685fdf73",
   "metadata": {},
   "source": [
    "## Write with use of 'w'"
   ]
  },
  {
   "cell_type": "code",
   "execution_count": 48,
   "id": "c3934063",
   "metadata": {},
   "outputs": [],
   "source": [
    "with open('jiven.txt','w') as file:\n",
    "    file.write('We are Study Python')\n",
    "'''We are Study Python\n",
    "in Vector Skill Academy '''"
   ]
  },
  {
   "cell_type": "code",
   "execution_count": 19,
   "id": "0605eeb1",
   "metadata": {},
   "outputs": [
    {
     "name": "stdout",
     "output_type": "stream",
     "text": [
      "We are Study Python\n"
     ]
    }
   ],
   "source": [
    "with open('jiven.txt','r') as file:\n",
    "    f=file.read()\n",
    "    print(f)"
   ]
  },
  {
   "cell_type": "markdown",
   "id": "b8f2ec2e-cb20-445b-abfb-6b3fee3227d0",
   "metadata": {},
   "source": [
    "### Change Line"
   ]
  },
  {
   "cell_type": "code",
   "execution_count": 61,
   "id": "98c1fb1e",
   "metadata": {},
   "outputs": [],
   "source": [
    "with open('alok1.txt','w') as file:\n",
    "    file.write(\"my name is Kartik\\ni am study python\")"
   ]
  },
  {
   "cell_type": "code",
   "execution_count": 62,
   "id": "c8961bcd",
   "metadata": {},
   "outputs": [
    {
     "name": "stdout",
     "output_type": "stream",
     "text": [
      "my name is Kartik\n",
      "i am study python\n"
     ]
    }
   ],
   "source": [
    "with open('alok1.txt','r') as file:\n",
    "    fi=file.read()\n",
    "    print(fi)"
   ]
  },
  {
   "cell_type": "code",
   "execution_count": 8,
   "id": "d1a5a135-5b67-4a70-a96f-57951682340e",
   "metadata": {},
   "outputs": [],
   "source": [
    "# write Multiple lines without using \\n\n",
    "with open('jiven.txt','w') as file:\n",
    "    task=['Hello ','Class ','Good ','Afternoon ']\n",
    "    file.writelines(task)"
   ]
  },
  {
   "cell_type": "code",
   "execution_count": 11,
   "id": "af44fa67",
   "metadata": {},
   "outputs": [],
   "source": [
    "# write Multiple lines without using \\n\n",
    "with open('jiven.txt','w') as file:\n",
    "    task=['Hello ','Class ','Good ','Afternoon ']\n",
    "    file.writelines(task)"
   ]
  },
  {
   "cell_type": "code",
   "execution_count": 12,
   "id": "d9b3c958",
   "metadata": {},
   "outputs": [
    {
     "name": "stdout",
     "output_type": "stream",
     "text": [
      "Hello Class Good Afternoon \n"
     ]
    }
   ],
   "source": [
    "with open('jiven.txt','r') as file:\n",
    "    d=file.read()\n",
    "    print(d)"
   ]
  },
  {
   "cell_type": "code",
   "execution_count": 13,
   "id": "b7de4c07",
   "metadata": {},
   "outputs": [],
   "source": [
    "with open('jiven.txt', 'w') as file:\n",
    "    task = ['Hello', 'Class', 'Good', 'Afternoon']\n",
    "    # Adding newline after each element\n",
    "    file.writelines(f'{line}\\n' for line in task)\n"
   ]
  },
  {
   "cell_type": "code",
   "execution_count": 34,
   "id": "11e3db42-41e5-47b2-85b9-420096db6726",
   "metadata": {},
   "outputs": [
    {
     "name": "stdout",
     "output_type": "stream",
     "text": [
      "and my i using dell laptopudy python\n",
      "in vector skill academy \n"
     ]
    }
   ],
   "source": [
    "with open('alok1.txt','r') as file:\n",
    "    d=file.read()\n",
    "    print(d)"
   ]
  },
  {
   "cell_type": "markdown",
   "id": "d547963c",
   "metadata": {},
   "source": [
    "## Append - a"
   ]
  },
  {
   "cell_type": "markdown",
   "id": "6ff05396",
   "metadata": {},
   "source": [
    "### Same as 'write'.Data is not overwritten. It's appended."
   ]
  },
  {
   "cell_type": "code",
   "execution_count": 3,
   "id": "47bd769e-3642-49e3-8933-0555417ab176",
   "metadata": {},
   "outputs": [
    {
     "name": "stdout",
     "output_type": "stream",
     "text": [
      "and come with my bikeaptopoon\n",
      "\n",
      "in vector skill academy and our trainer is Alok Sirand He is Leaving in PardeshipuraNew content appended with a+.\n",
      "File size before appending: 148 bytes\n",
      "\n"
     ]
    }
   ],
   "source": [
    "with open('jiven.txt','r') as file:\n",
    "    d=file.read()\n",
    "    print(d)"
   ]
  },
  {
   "cell_type": "code",
   "execution_count": 9,
   "id": "105e0658",
   "metadata": {},
   "outputs": [],
   "source": [
    "with open('jiven.txt','a') as file:\n",
    "    file.write('\\nin vector skill academy ')"
   ]
  },
  {
   "cell_type": "code",
   "execution_count": 46,
   "id": "5ccbc8ad",
   "metadata": {},
   "outputs": [
    {
     "name": "stdout",
     "output_type": "stream",
     "text": [
      "Hello\n",
      "Class\n",
      "Good\n",
      "Afternoon\n",
      "\n",
      "in vector skill academy \n"
     ]
    }
   ],
   "source": [
    "with open('jiven.txt','r') as file:\n",
    "    fil=file.read()\n",
    "    print(fil)"
   ]
  },
  {
   "cell_type": "markdown",
   "id": "1979df6a-6ef6-4153-90c9-0d57a665ab2d",
   "metadata": {},
   "source": [
    "## Clear Conatin of the File"
   ]
  },
  {
   "cell_type": "code",
   "execution_count": 7,
   "id": "dd3bdedb-a7b6-40fe-ba5b-dd4435dd9b4c",
   "metadata": {},
   "outputs": [],
   "source": [
    "with open('jiven.txt', 'w') as file:\n",
    "    # This will clear the content of the file\n",
    "    file.write('')"
   ]
  },
  {
   "cell_type": "code",
   "execution_count": null,
   "id": "c9b12230-6e51-4afa-b2c0-92e84debe230",
   "metadata": {},
   "outputs": [],
   "source": []
  },
  {
   "cell_type": "markdown",
   "id": "32cd330c-304a-447e-8c78-de88062272e9",
   "metadata": {},
   "source": [
    "## tell() # Check Position on Cursor"
   ]
  },
  {
   "cell_type": "code",
   "execution_count": 1,
   "id": "dba09cb5-1365-4e15-900e-0ab84dfa6946",
   "metadata": {},
   "outputs": [
    {
     "name": "stdout",
     "output_type": "stream",
     "text": [
      "i am a student in vector skillNew content appended with a+.\n",
      "Timestamp: 2024-10-14 13:12:20.498833\n",
      "Timestamp: 2024-10-14 13:12:23.362057\n",
      "\n"
     ]
    }
   ],
   "source": [
    "with open('jiven.txt','r') as file:\n",
    "    d=file.read()\n",
    "    print(d)"
   ]
  },
  {
   "cell_type": "code",
   "execution_count": 2,
   "id": "6d3a4bc0-2fca-4abc-90c1-4abe3afffa3f",
   "metadata": {},
   "outputs": [
    {
     "name": "stdout",
     "output_type": "stream",
     "text": [
      "0\n"
     ]
    }
   ],
   "source": [
    "with open('jiven.txt','r') as file:\n",
    "    content=file.tell()\n",
    "    print(content)"
   ]
  },
  {
   "cell_type": "markdown",
   "id": "49829ace-1b4a-44f5-8e22-465ffcbabac1",
   "metadata": {},
   "source": [
    "### Print multiline pointer Position"
   ]
  },
  {
   "cell_type": "code",
   "execution_count": 3,
   "id": "93e01ba6-f76f-4c1f-a7a2-d7c74cdffc58",
   "metadata": {},
   "outputs": [
    {
     "name": "stdout",
     "output_type": "stream",
     "text": [
      "5\n",
      "13\n"
     ]
    }
   ],
   "source": [
    "with open('jiven.txt','r') as file:\n",
    "    content=file.read(5)\n",
    "    content=file.tell()\n",
    "    print(content)\n",
    "    content=file.read(8)\n",
    "    content=file.tell()\n",
    "    print(content)"
   ]
  },
  {
   "cell_type": "code",
   "execution_count": 13,
   "id": "c6abc3ee-ca15-44c3-be96-ab90296aa209",
   "metadata": {},
   "outputs": [
    {
     "name": "stdout",
     "output_type": "stream",
     "text": [
      "5\n"
     ]
    }
   ],
   "source": [
    "with open('alok1.txt','r') as file:\n",
    "    content=file.read(5)\n",
    "    content=file.tell()\n",
    "    print(content)"
   ]
  },
  {
   "cell_type": "markdown",
   "id": "7fd7fc95-c9ec-4cd6-abd4-8f1ae6cb001a",
   "metadata": {},
   "source": [
    "## Using Seek() "
   ]
  },
  {
   "cell_type": "raw",
   "id": "090d1494-763a-4c24-b792-39eed8cfc6c4",
   "metadata": {},
   "source": [
    "This method is used to change the position of file pointer"
   ]
  },
  {
   "cell_type": "code",
   "execution_count": 53,
   "id": "5a6a3739",
   "metadata": {},
   "outputs": [
    {
     "name": "stdout",
     "output_type": "stream",
     "text": [
      "Hello\n",
      "5\n",
      "Hello\n",
      "Class\n",
      "Good\n",
      "Afternoon\n",
      "\n",
      "in vector skill academy \n"
     ]
    }
   ],
   "source": [
    "with open('jiven.txt','r') as file:\n",
    "    print(file.read(5))\n",
    "    print(file.tell())\n",
    "    file.seek(0)\n",
    "    print(file.read())"
   ]
  },
  {
   "cell_type": "code",
   "execution_count": 57,
   "id": "a179f751",
   "metadata": {},
   "outputs": [
    {
     "name": "stdout",
     "output_type": "stream",
     "text": [
      "Hello\n",
      "\n",
      "7\n",
      "\n",
      "Class\n",
      "Good\n",
      "Afternoon\n",
      "\n",
      "in vector skill academy \n"
     ]
    }
   ],
   "source": [
    "with open('jiven.txt','r') as file:\n",
    "    print(file.read(6))\n",
    "    print(file.tell())\n",
    "    file.seek(6)\n",
    "    print(file.read())"
   ]
  },
  {
   "cell_type": "markdown",
   "id": "61bd6a7d",
   "metadata": {},
   "source": [
    "## R+ - read & Write"
   ]
  },
  {
   "cell_type": "markdown",
   "id": "e897f753",
   "metadata": {},
   "source": [
    "### File must exist, else error. - Do Both read and write operation"
   ]
  },
  {
   "cell_type": "code",
   "execution_count": 12,
   "id": "2ca5bc52",
   "metadata": {},
   "outputs": [
    {
     "name": "stdout",
     "output_type": "stream",
     "text": [
      "Hello Class Good Afternoon \n",
      "in vector skill academy and our trainer is Alok Sir\n"
     ]
    }
   ],
   "source": [
    "with open('jiven.txt','r') as file:\n",
    "    content=file.read()\n",
    "    print(content)"
   ]
  },
  {
   "cell_type": "code",
   "execution_count": 11,
   "id": "7f064ff3",
   "metadata": {},
   "outputs": [
    {
     "name": "stdout",
     "output_type": "stream",
     "text": [
      "Hello Class Good Afternoon \n",
      "in vector skill academy \n"
     ]
    }
   ],
   "source": [
    "with open('jiven.txt','r+') as file:\n",
    "    content=file.read()\n",
    "    #print(content)\n",
    "    file.write('and our trainer is Alok Sir')\n",
    "    print(content)"
   ]
  },
  {
   "cell_type": "code",
   "execution_count": 61,
   "id": "49e7b1db-98a5-4ce0-a8ce-60b145b2d711",
   "metadata": {},
   "outputs": [
    {
     "name": "stdout",
     "output_type": "stream",
     "text": [
      "Hello\n",
      "Class\n",
      "Good\n",
      "Afternoon\n",
      "\n",
      "in vector skill academy and our trainer is Alok Sir\n"
     ]
    }
   ],
   "source": [
    "with open('jiven.txt','r') as file:\n",
    "    content=file.read()\n",
    "    print(content)"
   ]
  },
  {
   "cell_type": "markdown",
   "id": "c4dc60c3-2e64-41e8-8a64-bed5a3ebe9ea",
   "metadata": {},
   "source": []
  },
  {
   "cell_type": "code",
   "execution_count": 15,
   "id": "3ba820fb",
   "metadata": {},
   "outputs": [
    {
     "name": "stdout",
     "output_type": "stream",
     "text": [
      "and my i using dell laptop \n",
      "in vector skill academy and our trainer is Alok Sir\n"
     ]
    }
   ],
   "source": [
    "with open('jiven.txt','r') as file:\n",
    "    content=file.read()\n",
    "    print(content)"
   ]
  },
  {
   "cell_type": "code",
   "execution_count": 14,
   "id": "02c57c17",
   "metadata": {},
   "outputs": [
    {
     "name": "stdout",
     "output_type": "stream",
     "text": [
      "Hello Class Good Afternoon \n",
      "in vector skill academy and our trainer is Alok Sir\n"
     ]
    }
   ],
   "source": [
    "with open('jiven.txt','r+') as file:\n",
    "    content=file.read()\n",
    "    file.seek(0)\n",
    "    file.write('and my i using dell laptop')\n",
    "    print(content)"
   ]
  },
  {
   "cell_type": "code",
   "execution_count": 65,
   "id": "a256ac03-3e58-4a3f-ac14-616975ff39c9",
   "metadata": {},
   "outputs": [
    {
     "name": "stdout",
     "output_type": "stream",
     "text": [
      "and my i using dell laptopoon\n",
      "\n",
      "in vector skill academy and our trainer is Alok Sir\n"
     ]
    }
   ],
   "source": [
    "with open('jiven.txt','r') as file:\n",
    "    content=file.read()\n",
    "    print(content)"
   ]
  },
  {
   "cell_type": "code",
   "execution_count": 66,
   "id": "f4df4478",
   "metadata": {},
   "outputs": [
    {
     "name": "stdout",
     "output_type": "stream",
     "text": [
      "and my i using dell laptopoon\n",
      "\n",
      "in vector skill academy and our trainer is Alok Sir\n"
     ]
    }
   ],
   "source": [
    "with open('jiven.txt','r+') as file:\n",
    "    content=file.read()\n",
    "    file.seek(0)\n",
    "    file.write('and come with my bike')\n",
    "    print(content)"
   ]
  },
  {
   "cell_type": "code",
   "execution_count": 70,
   "id": "578f5f8d",
   "metadata": {},
   "outputs": [
    {
     "name": "stdout",
     "output_type": "stream",
     "text": [
      "and come with my bikeaptopoon\n",
      "\n",
      "in vector skill academy and our trainer is Alok Sir\n"
     ]
    }
   ],
   "source": [
    "with open('jiven.txt','r') as file:\n",
    "    content=file.read()\n",
    "    print(content)"
   ]
  },
  {
   "cell_type": "markdown",
   "id": "9c661cca-a795-4a73-a022-13e902182232",
   "metadata": {},
   "source": [
    "### Shift Pointer Last Line"
   ]
  },
  {
   "cell_type": "code",
   "execution_count": 16,
   "id": "4f20279e",
   "metadata": {},
   "outputs": [
    {
     "name": "stdout",
     "output_type": "stream",
     "text": [
      "and my i using dell laptop \n",
      "in vector skill academy and our trainer is Alok Sir\n"
     ]
    }
   ],
   "source": [
    "with open('jiven.txt','r+') as file:\n",
    "    file.seek(0)\n",
    "    content=file.read()\n",
    "    file.write('and He is Leaving in Pardeshipura')\n",
    "    print(content)"
   ]
  },
  {
   "cell_type": "code",
   "execution_count": 17,
   "id": "3fdc4ab1",
   "metadata": {},
   "outputs": [
    {
     "name": "stdout",
     "output_type": "stream",
     "text": [
      "and my i using dell laptop \n",
      "in vector skill academy and our trainer is Alok Sirand He is Leaving in Pardeshipura\n"
     ]
    }
   ],
   "source": [
    "with open('jiven.txt','r') as file:\n",
    "    content=file.read()\n",
    "    print(content)"
   ]
  },
  {
   "cell_type": "raw",
   "id": "c89b57d7-7e8a-4bca-80e9-ecd56a3a2799",
   "metadata": {},
   "source": [
    "Step-by-Step Breakdown:\n",
    "file.seek(0): Moves the pointer to the beginning of the file.\n",
    "file.read(): Reads the entire file. Once this is done, the file pointer is at the end of the file.\n",
    "file.write('and He is Leaving in Pardeshipura'): Since the file pointer is at the end, this string is appended after the existing content rather than overwriting it.\n",
    "Why It Writes at the End:\n",
    "After the file.read() call, the pointer is at the end of the file, which means any subsequent write operation will start from that position. To overwrite the content from the beginning of the file, you would need to reset the file pointer again using file.seek(0) before the write() operation."
   ]
  },
  {
   "cell_type": "code",
   "execution_count": 43,
   "id": "ad758709",
   "metadata": {},
   "outputs": [
    {
     "name": "stdout",
     "output_type": "stream",
     "text": [
      "We are Study Python\n"
     ]
    }
   ],
   "source": [
    "with open('alok.txt','r') as file:\n",
    "    content=file.read()\n",
    "    print(content)"
   ]
  },
  {
   "cell_type": "code",
   "execution_count": 44,
   "id": "c820562b",
   "metadata": {},
   "outputs": [
    {
     "name": "stdout",
     "output_type": "stream",
     "text": [
      "We are Study Python\n"
     ]
    }
   ],
   "source": [
    "with open('alok.txt','r+') as file:\n",
    "    file.seek(0)\n",
    "    content=file.read()\n",
    "    file.write('Programing Language')\n",
    "    print(content)"
   ]
  },
  {
   "cell_type": "code",
   "execution_count": 45,
   "id": "580f957c",
   "metadata": {},
   "outputs": [
    {
     "name": "stdout",
     "output_type": "stream",
     "text": [
      "We are Study PythonPrograming Language\n"
     ]
    }
   ],
   "source": [
    "with open('alok.txt','r') as file:\n",
    "    content=file.read()\n",
    "    print(content)"
   ]
  },
  {
   "cell_type": "markdown",
   "id": "8f18d47a",
   "metadata": {},
   "source": [
    "## W+ - Read & Write "
   ]
  },
  {
   "cell_type": "markdown",
   "id": "2c1d5357",
   "metadata": {},
   "source": [
    "### If file exist- overwrite. if not create new file. Both read and write operation perform"
   ]
  },
  {
   "cell_type": "code",
   "execution_count": 48,
   "id": "c23a81bd-dcf3-43bb-aa57-915f7812d853",
   "metadata": {},
   "outputs": [
    {
     "name": "stdout",
     "output_type": "stream",
     "text": [
      "my name is alok\n"
     ]
    }
   ],
   "source": [
    "with open('alok2.txt','r') as file:\n",
    "    content=file.read()\n",
    "    print(content)"
   ]
  },
  {
   "cell_type": "code",
   "execution_count": 47,
   "id": "9e3adef1",
   "metadata": {},
   "outputs": [],
   "source": [
    "with open('alok2.txt','w') as file:\n",
    "    file.write('my name is alok')"
   ]
  },
  {
   "cell_type": "code",
   "execution_count": 19,
   "id": "7e29ca43",
   "metadata": {},
   "outputs": [
    {
     "name": "stdout",
     "output_type": "stream",
     "text": [
      "and my i using dell laptop \n",
      "in vector skill academy and our trainer is Alok Sirand He is Leaving in Pardeshipura\n"
     ]
    }
   ],
   "source": [
    "with open('jiven.txt','r') as file:\n",
    "    content=file.read()\n",
    "    print(content)"
   ]
  },
  {
   "cell_type": "code",
   "execution_count": 20,
   "id": "28e4be6d",
   "metadata": {},
   "outputs": [
    {
     "name": "stdout",
     "output_type": "stream",
     "text": [
      "i am a student in vector skill\n"
     ]
    }
   ],
   "source": [
    "with open('jiven.txt','w+') as file:\n",
    "    file.write('i am a student in vector skill')\n",
    "    file.seek(0)\n",
    "    content=file.read()\n",
    "    print(content)"
   ]
  },
  {
   "cell_type": "code",
   "execution_count": 59,
   "id": "ded3fd8a",
   "metadata": {},
   "outputs": [
    {
     "name": "stdout",
     "output_type": "stream",
     "text": [
      "i am a student in vector skill\n"
     ]
    }
   ],
   "source": [
    "with open('alok2.txt','r') as file:\n",
    "    content=file.read()\n",
    "    print(content)"
   ]
  },
  {
   "cell_type": "markdown",
   "id": "3233ad01",
   "metadata": {},
   "source": [
    "## Append & Read - a+"
   ]
  },
  {
   "cell_type": "markdown",
   "id": "7b1acd6c",
   "metadata": {},
   "source": [
    "### Same as 'write'. Data is not overwritten. It's appended. Both read & write works"
   ]
  },
  {
   "cell_type": "markdown",
   "id": "0a27752a-5890-41b8-915a-9712d27c0c3d",
   "metadata": {},
   "source": [
    "## 1. Appending text using mode a (append mode)"
   ]
  },
  {
   "cell_type": "code",
   "execution_count": 15,
   "id": "5919826f",
   "metadata": {},
   "outputs": [],
   "source": [
    "with open('alok2.txt', 'a') as file:\n",
    "    file.write('in vector Skill\\n')"
   ]
  },
  {
   "cell_type": "code",
   "execution_count": 16,
   "id": "a653cacc",
   "metadata": {},
   "outputs": [
    {
     "name": "stdout",
     "output_type": "stream",
     "text": [
      "i am a student in vector skillin vector Skill\n",
      "This is the first line appended.\n",
      "Appending line 1.\n",
      "Appending line 2.\n",
      "User entered text.\n",
      "User entered text.\n",
      "Hello\n",
      "Line A\n",
      "Line B\n",
      "Line C\n",
      "New content appended with a+.\n",
      "File size before appending: 221 bytes\n",
      "File size before appending: 260 bytes\n",
      "Timestamp: 2024-10-09 19:31:24.807524\n",
      "Total lines before append: 14\n",
      "This is line number 1 appended.\n",
      "This is line number 2 appended.\n",
      "This is line number 3 appended.\n",
      "in vector Skill\n",
      "\n"
     ]
    }
   ],
   "source": [
    "with open('alok2.txt','r') as file:\n",
    "    content=file.read()\n",
    "    print(content)"
   ]
  },
  {
   "cell_type": "code",
   "execution_count": 10,
   "id": "c6a06456-7a08-469e-9fd8-831fd555c9c2",
   "metadata": {},
   "outputs": [],
   "source": [
    "with open('alok2.txt', 'a') as file:\n",
    "    file.write('This is the first line appended.\\n')\n"
   ]
  },
  {
   "cell_type": "code",
   "execution_count": 11,
   "id": "bd52691c-ca8c-48f7-8bef-93841e28ef47",
   "metadata": {},
   "outputs": [
    {
     "name": "stdout",
     "output_type": "stream",
     "text": [
      "i am a student in vector skillin vector Skill\n",
      "This is the first line appended.\n",
      "\n"
     ]
    }
   ],
   "source": [
    "with open('alok2.txt','r') as file:\n",
    "    content=file.read()\n",
    "    print(content)"
   ]
  },
  {
   "cell_type": "markdown",
   "id": "71c5e06d-406b-4424-90e8-82868601ca29",
   "metadata": {},
   "source": [
    "## Appending multiple lines using mode a"
   ]
  },
  {
   "cell_type": "code",
   "execution_count": 12,
   "id": "ad855888-9079-4729-a341-2624d3ac95c4",
   "metadata": {},
   "outputs": [],
   "source": [
    "with open('alok2.txt', 'a') as file:\n",
    "    file.write('Appending line 1.\\n')\n",
    "    file.write('Appending line 2.\\n')\n"
   ]
  },
  {
   "cell_type": "code",
   "execution_count": 13,
   "id": "a9066937-0071-4b52-9e8a-94ce9ffc8b66",
   "metadata": {},
   "outputs": [
    {
     "name": "stdout",
     "output_type": "stream",
     "text": [
      "i am a student in vector skillin vector Skill\n",
      "This is the first line appended.\n",
      "Appending line 1.\n",
      "Appending line 2.\n",
      "\n"
     ]
    }
   ],
   "source": [
    "with open('alok2.txt','r') as file:\n",
    "    content=file.read()\n",
    "    print(content)"
   ]
  },
  {
   "cell_type": "markdown",
   "id": "c828b90a-9ccd-4041-990c-d607a610dd7c",
   "metadata": {},
   "source": [
    "## Appending user input to a file (mode a)"
   ]
  },
  {
   "cell_type": "code",
   "execution_count": 18,
   "id": "54c52f74-0b02-4512-b801-61432bb57010",
   "metadata": {},
   "outputs": [
    {
     "name": "stdin",
     "output_type": "stream",
     "text": [
      "User entered text. Hello\n"
     ]
    }
   ],
   "source": [
    "user_input = input(\"User entered text.\")\n",
    "with open('alok2.txt', 'a') as file:\n",
    "    file.write(f'{user_input}\\n')\n"
   ]
  },
  {
   "cell_type": "code",
   "execution_count": 19,
   "id": "68b114bb-87ac-4253-b9db-e04b23decc15",
   "metadata": {},
   "outputs": [
    {
     "name": "stdout",
     "output_type": "stream",
     "text": [
      "i am a student in vector skillin vector Skill\n",
      "This is the first line appended.\n",
      "Appending line 1.\n",
      "Appending line 2.\n",
      "User entered text.\n",
      "User entered text.\n",
      "Hello\n",
      "\n"
     ]
    }
   ],
   "source": [
    "with open('alok2.txt','r') as file:\n",
    "    content=file.read()\n",
    "    print(content)"
   ]
  },
  {
   "cell_type": "markdown",
   "id": "394858e0-ab38-42c1-8a7c-80279aeef640",
   "metadata": {},
   "source": [
    "## Appending a list of strings using mode "
   ]
  },
  {
   "cell_type": "code",
   "execution_count": 20,
   "id": "faae3dad-f57f-4ea3-8f75-f939d2d8cb38",
   "metadata": {},
   "outputs": [],
   "source": [
    "lines = ['Line A\\n', 'Line B\\n', 'Line C\\n']\n",
    "with open('alok2.txt', 'a') as file:\n",
    "    file.writelines(lines)"
   ]
  },
  {
   "cell_type": "code",
   "execution_count": 21,
   "id": "582a2032-479d-4554-b8a2-39a7bf88dad1",
   "metadata": {},
   "outputs": [
    {
     "name": "stdout",
     "output_type": "stream",
     "text": [
      "i am a student in vector skillin vector Skill\n",
      "This is the first line appended.\n",
      "Appending line 1.\n",
      "Appending line 2.\n",
      "User entered text.\n",
      "User entered text.\n",
      "Hello\n",
      "Line A\n",
      "Line B\n",
      "Line C\n",
      "\n"
     ]
    }
   ],
   "source": [
    "with open('alok2.txt','r') as file:\n",
    "    content=file.read()\n",
    "    print(content)"
   ]
  },
  {
   "cell_type": "markdown",
   "id": "42b3f13f-5b17-449a-addd-6edd4ba2fbb1",
   "metadata": {},
   "source": [
    "## Appending with mode a+ and reading from the file"
   ]
  },
  {
   "cell_type": "code",
   "execution_count": 21,
   "id": "4d587217-389f-40f6-b57a-ac588b5f9703",
   "metadata": {},
   "outputs": [
    {
     "name": "stdout",
     "output_type": "stream",
     "text": [
      "i am a student in vector skill\n"
     ]
    }
   ],
   "source": [
    "with open('jiven.txt','r') as file:\n",
    "    content=file.read()\n",
    "    print(content)"
   ]
  },
  {
   "cell_type": "code",
   "execution_count": 22,
   "id": "c11caa54-ab54-4efd-a91d-d001d6a14d23",
   "metadata": {},
   "outputs": [
    {
     "name": "stdout",
     "output_type": "stream",
     "text": [
      "i am a student in vector skillNew content appended with a+.\n",
      "\n"
     ]
    }
   ],
   "source": [
    "with open('jiven.txt', 'a+') as file:\n",
    "    file.write('New content appended with a+.\\n')\n",
    "    file.seek(0)  # Move to the start to read from the file\n",
    "    content = file.read()\n",
    "    print(content)\n"
   ]
  },
  {
   "cell_type": "markdown",
   "id": "33002a7e-1c09-4196-bbc9-666eb72eb3ae",
   "metadata": {},
   "source": [
    "## Checking the current size of the file before appending (a+)"
   ]
  },
  {
   "cell_type": "code",
   "execution_count": 76,
   "id": "7d695c84-4b89-4a9a-8642-8f6c95312856",
   "metadata": {},
   "outputs": [],
   "source": [
    "with open('jiven.txt', 'a+') as file:\n",
    "    file.seek(0, 2)  # Move to the end of the file\n",
    "    size = file.tell()  # Get the size (position) in bytes\n",
    "    file.write(f'File size before appending: {size} bytes\\n')\n"
   ]
  },
  {
   "cell_type": "code",
   "execution_count": 77,
   "id": "23d5f73c-5c31-46d3-89ff-bdebee3e9d7c",
   "metadata": {},
   "outputs": [
    {
     "name": "stdout",
     "output_type": "stream",
     "text": [
      "and come with my bikeaptopoon\n",
      "\n",
      "in vector skill academy and our trainer is Alok Sirand He is Leaving in PardeshipuraNew content appended with a+.\n",
      "File size before appending: 148 bytes\n",
      "\n"
     ]
    }
   ],
   "source": [
    "with open('jiven.txt','r') as file:\n",
    "    content=file.read()\n",
    "    print(content)"
   ]
  },
  {
   "cell_type": "code",
   "execution_count": null,
   "id": "4835dc55-711e-482e-a72c-6eea033129ce",
   "metadata": {},
   "outputs": [],
   "source": []
  },
  {
   "cell_type": "code",
   "execution_count": null,
   "id": "511e17eb-337f-45b9-9991-2b692e2a75e3",
   "metadata": {},
   "outputs": [],
   "source": []
  },
  {
   "cell_type": "code",
   "execution_count": null,
   "id": "33f931e6-4efb-4b11-a02c-f888301e636c",
   "metadata": {},
   "outputs": [],
   "source": []
  },
  {
   "cell_type": "code",
   "execution_count": null,
   "id": "d77fe991-ac4e-449e-8ae0-b9517da98e67",
   "metadata": {},
   "outputs": [],
   "source": []
  },
  {
   "cell_type": "code",
   "execution_count": null,
   "id": "d76b15f6-195b-4418-a655-eb8f30fe3ffb",
   "metadata": {},
   "outputs": [],
   "source": []
  },
  {
   "cell_type": "code",
   "execution_count": null,
   "id": "0b0045d1-e51b-4d55-bf94-38ed3dac150b",
   "metadata": {},
   "outputs": [],
   "source": []
  },
  {
   "cell_type": "markdown",
   "id": "e8ae85de-d0ba-43e8-9572-7c0de4bbb21a",
   "metadata": {},
   "source": [
    "## Append a timestamp to a file (mode a)"
   ]
  },
  {
   "cell_type": "code",
   "execution_count": 24,
   "id": "df98bfed-89d2-489a-a627-e3faf8622826",
   "metadata": {},
   "outputs": [],
   "source": [
    "import datetime\n",
    "with open('jiven.txt', 'a') as file:\n",
    "    file.write(f'Timestamp: {datetime.datetime.now()}\\n')\n"
   ]
  },
  {
   "cell_type": "code",
   "execution_count": 26,
   "id": "74c23621-8fa2-4707-87d4-219eeaaeb9e8",
   "metadata": {},
   "outputs": [
    {
     "name": "stdout",
     "output_type": "stream",
     "text": [
      "i am a student in vector skillNew content appended with a+.\n",
      "Timestamp: 2024-10-14 13:12:20.498833\n",
      "Timestamp: 2024-10-14 13:12:23.362057\n",
      "\n"
     ]
    }
   ],
   "source": [
    "with open('jiven.txt','r') as file:\n",
    "    content=file.read()\n",
    "    print(content)"
   ]
  },
  {
   "cell_type": "markdown",
   "id": "c1c542ce-f997-4ff0-8b2b-c67bf5f2f89a",
   "metadata": {},
   "source": [
    "## Append a line only if the file contains specific text (mode a+)"
   ]
  },
  {
   "cell_type": "code",
   "execution_count": 28,
   "id": "5a27c0fb-0d0e-4eee-a878-78fbff66fcdb",
   "metadata": {},
   "outputs": [],
   "source": [
    "with open('alok2.txt', 'a+') as file:\n",
    "    file.seek(0)\n",
    "    content = file.read()\n",
    "    if 'specific text' in content:\n",
    "        file.write('Appended because specific text found.\\n')"
   ]
  },
  {
   "cell_type": "code",
   "execution_count": 29,
   "id": "7989f629-7df9-44b3-bfd9-5e24e6570061",
   "metadata": {},
   "outputs": [
    {
     "name": "stdout",
     "output_type": "stream",
     "text": [
      "i am a student in vector skillin vector Skill\n",
      "This is the first line appended.\n",
      "Appending line 1.\n",
      "Appending line 2.\n",
      "User entered text.\n",
      "User entered text.\n",
      "Hello\n",
      "Line A\n",
      "Line B\n",
      "Line C\n",
      "New content appended with a+.\n",
      "File size before appending: 221 bytes\n",
      "File size before appending: 260 bytes\n",
      "Timestamp: 2024-10-09 19:31:24.807524\n",
      "\n"
     ]
    }
   ],
   "source": [
    "with open('alok2.txt','r') as file:\n",
    "    content=file.read()\n",
    "    print(content)"
   ]
  },
  {
   "cell_type": "markdown",
   "id": "b2b0d31b-6461-42d9-8ce2-70ffa361354e",
   "metadata": {},
   "source": [
    "## Append and count the number of lines in the file (mode a+)"
   ]
  },
  {
   "cell_type": "code",
   "execution_count": 30,
   "id": "3b205ad9-ad91-4f55-a057-33d4f9633bbe",
   "metadata": {},
   "outputs": [],
   "source": [
    "with open('alok2.txt', 'a+') as file:\n",
    "    file.seek(0)\n",
    "    content = file.readlines()\n",
    "    line_count = len(content)\n",
    "    file.write(f'Total lines before append: {line_count}\\n')\n"
   ]
  },
  {
   "cell_type": "code",
   "execution_count": 31,
   "id": "5705aada-da03-46c8-afb0-ed6c1acd082e",
   "metadata": {},
   "outputs": [
    {
     "name": "stdout",
     "output_type": "stream",
     "text": [
      "i am a student in vector skillin vector Skill\n",
      "This is the first line appended.\n",
      "Appending line 1.\n",
      "Appending line 2.\n",
      "User entered text.\n",
      "User entered text.\n",
      "Hello\n",
      "Line A\n",
      "Line B\n",
      "Line C\n",
      "New content appended with a+.\n",
      "File size before appending: 221 bytes\n",
      "File size before appending: 260 bytes\n",
      "Timestamp: 2024-10-09 19:31:24.807524\n",
      "Total lines before append: 14\n",
      "\n"
     ]
    }
   ],
   "source": [
    "with open('alok2.txt','r') as file:\n",
    "    content=file.read()\n",
    "    print(content)\n"
   ]
  },
  {
   "cell_type": "markdown",
   "id": "211ae692-7f0d-49e9-bc9d-a1c13ef189d0",
   "metadata": {},
   "source": [
    "## Append dynamic content using a loop (mode a)"
   ]
  },
  {
   "cell_type": "code",
   "execution_count": 32,
   "id": "6e2af938-22e8-421e-b349-557c21f51c3c",
   "metadata": {},
   "outputs": [],
   "source": [
    "for i in range(3):\n",
    "    with open('alok2.txt', 'a') as file:\n",
    "        file.write(f'This is line number {i+1} appended.\\n')"
   ]
  },
  {
   "cell_type": "code",
   "execution_count": 33,
   "id": "a3c033fe-1e5a-4215-90da-8f2cc73965f9",
   "metadata": {},
   "outputs": [
    {
     "name": "stdout",
     "output_type": "stream",
     "text": [
      "i am a student in vector skillin vector Skill\n",
      "This is the first line appended.\n",
      "Appending line 1.\n",
      "Appending line 2.\n",
      "User entered text.\n",
      "User entered text.\n",
      "Hello\n",
      "Line A\n",
      "Line B\n",
      "Line C\n",
      "New content appended with a+.\n",
      "File size before appending: 221 bytes\n",
      "File size before appending: 260 bytes\n",
      "Timestamp: 2024-10-09 19:31:24.807524\n",
      "Total lines before append: 14\n",
      "This is line number 1 appended.\n",
      "This is line number 2 appended.\n",
      "This is line number 3 appended.\n",
      "\n"
     ]
    }
   ],
   "source": [
    "with open('alok2.txt','r') as file:\n",
    "    content=file.read()\n",
    "    print(content)\n"
   ]
  },
  {
   "cell_type": "code",
   "execution_count": null,
   "id": "8c681d46-a772-4dc1-9445-c6a482dbdab9",
   "metadata": {},
   "outputs": [],
   "source": []
  },
  {
   "cell_type": "code",
   "execution_count": 33,
   "id": "a8d0b28a",
   "metadata": {},
   "outputs": [
    {
     "name": "stdout",
     "output_type": "stream",
     "text": [
      "Hello Class Good Afternoon hello\n",
      "\n"
     ]
    }
   ],
   "source": [
    "with open('alok2.txt', 'a+') as file:\n",
    "\tfile.write('hello\\n')\n",
    "\tfile.seek(0) \n",
    "\tcontent = file.read()\n",
    "\tprint(content)\n"
   ]
  },
  {
   "cell_type": "code",
   "execution_count": 1,
   "id": "1de046a1",
   "metadata": {},
   "outputs": [
    {
     "name": "stdout",
     "output_type": "stream",
     "text": [
      "Hello, World!\n"
     ]
    }
   ],
   "source": [
    "text = \"   Hello, World!   \"\n",
    "result = text.strip()\n",
    "print(result)  "
   ]
  },
  {
   "cell_type": "code",
   "execution_count": 2,
   "id": "a237bbb9-7d25-48a8-a456-a7f0edcf5812",
   "metadata": {},
   "outputs": [
    {
     "name": "stdout",
     "output_type": "stream",
     "text": [
      "Hello, World!\n"
     ]
    }
   ],
   "source": [
    "text = \"--Hello, World!--\"\n",
    "result = text.strip('-')\n",
    "print(result)\n"
   ]
  },
  {
   "cell_type": "markdown",
   "id": "d326d00f-36a4-4072-9440-ad215afe0cf7",
   "metadata": {},
   "source": [
    "### Using lstrip() to remove leading spaces"
   ]
  },
  {
   "cell_type": "code",
   "execution_count": 78,
   "id": "896f1582-1f75-474b-8875-66c82d69ae52",
   "metadata": {},
   "outputs": [
    {
     "name": "stdout",
     "output_type": "stream",
     "text": [
      "Hello, World!\n"
     ]
    }
   ],
   "source": [
    "text = \"   Hello, World!\"\n",
    "result = text.lstrip()\n",
    "print(result)  \n"
   ]
  },
  {
   "cell_type": "markdown",
   "id": "e8705f47-0aa5-4a8c-aa74-82f76e243bf4",
   "metadata": {},
   "source": [
    "### Using lstrip() to remove specific characters from the left"
   ]
  },
  {
   "cell_type": "code",
   "execution_count": 4,
   "id": "39a8add0-101f-4522-9b43-e2362d757ab1",
   "metadata": {},
   "outputs": [
    {
     "name": "stdout",
     "output_type": "stream",
     "text": [
      "Python Programming###\n"
     ]
    }
   ],
   "source": [
    "text = \"###Python Programming###\"\n",
    "result = text.lstrip('#')\n",
    "print(result) \n"
   ]
  },
  {
   "cell_type": "markdown",
   "id": "3e249277-6303-4a1a-a0c7-6f7895a84f46",
   "metadata": {},
   "source": [
    "## Using rstrip() to remove trailing spaces"
   ]
  },
  {
   "cell_type": "code",
   "execution_count": 5,
   "id": "997b9d88-8fc0-4100-9b28-b889b893df2d",
   "metadata": {},
   "outputs": [
    {
     "name": "stdout",
     "output_type": "stream",
     "text": [
      "Hello, World!\n"
     ]
    }
   ],
   "source": [
    "text = \"Hello, World!   \"\n",
    "result = text.rstrip()\n",
    "print(result) \n"
   ]
  },
  {
   "cell_type": "markdown",
   "id": "01f26477-410b-4d80-a068-486185462888",
   "metadata": {},
   "source": [
    "## Using strip() to remove multiple characters from both ends"
   ]
  },
  {
   "cell_type": "code",
   "execution_count": 6,
   "id": "69c3f2a9-129a-4485-854c-793dbd6fb6b8",
   "metadata": {},
   "outputs": [
    {
     "name": "stdout",
     "output_type": "stream",
     "text": [
      "Hello\n"
     ]
    }
   ],
   "source": [
    "text = \"123Hello123\"\n",
    "result = text.strip('123')\n",
    "print(result)\n"
   ]
  },
  {
   "cell_type": "markdown",
   "id": "e8cfd767-9349-4922-9e34-99f5cb43b280",
   "metadata": {},
   "source": [
    "### Using lstrip() to remove multiple characters from the left"
   ]
  },
  {
   "cell_type": "code",
   "execution_count": 7,
   "id": "37c2bccf-848b-40ad-ae07-bb8214a38da7",
   "metadata": {},
   "outputs": [
    {
     "name": "stdout",
     "output_type": "stream",
     "text": [
      "Python Code@@@###\n"
     ]
    }
   ],
   "source": [
    "text = \"##@@@Python Code@@@###\"\n",
    "result = text.lstrip('#@')\n",
    "print(result) "
   ]
  },
  {
   "cell_type": "code",
   "execution_count": null,
   "id": "4f4fce22-20c0-49e5-ab5c-116ce5d4df25",
   "metadata": {},
   "outputs": [],
   "source": []
  },
  {
   "cell_type": "markdown",
   "id": "74a2b7ea-bcab-4655-af96-5b4337f14e15",
   "metadata": {},
   "source": [
    "## Using rstrip() to remove multiple characters from the right"
   ]
  },
  {
   "cell_type": "code",
   "execution_count": 8,
   "id": "5572ab7c-5ffe-4198-aa1c-3203d9316701",
   "metadata": {},
   "outputs": [
    {
     "name": "stdout",
     "output_type": "stream",
     "text": [
      "Python Code\n"
     ]
    }
   ],
   "source": [
    "text = \"Python Code...,,,\"\n",
    "result = text.rstrip('. ,')\n",
    "print(result) "
   ]
  },
  {
   "cell_type": "markdown",
   "id": "013acbf4-3d69-4365-9b4e-e3b434dc33c0",
   "metadata": {},
   "source": [
    "### Using strip() to clean up unwanted characters in a URL"
   ]
  },
  {
   "cell_type": "code",
   "execution_count": 27,
   "id": "16bf5030-d2cb-447f-b606-ac01b0f19f19",
   "metadata": {},
   "outputs": [
    {
     "name": "stdout",
     "output_type": "stream",
     "text": [
      "https://www.example.com\n"
     ]
    }
   ],
   "source": [
    "url = \"https://www.example.com//\"\n",
    "result = url.strip('/')\n",
    "print(result) \n"
   ]
  },
  {
   "cell_type": "markdown",
   "id": "fa4d041a-51e6-4c8f-add8-2c7475a5b19b",
   "metadata": {},
   "source": [
    "## Delete a File"
   ]
  },
  {
   "cell_type": "code",
   "execution_count": 2,
   "id": "8cfba86d-b0c5-41d7-bb6b-5a17968d26c4",
   "metadata": {},
   "outputs": [],
   "source": [
    "import os\n",
    "os.remove(\"a.txt\")"
   ]
  },
  {
   "cell_type": "code",
   "execution_count": null,
   "id": "134701ae-9208-45fc-b2bf-1f9495b13739",
   "metadata": {},
   "outputs": [],
   "source": [
    "import os\n",
    "os.remove(\"jiven.txt\")"
   ]
  },
  {
   "cell_type": "markdown",
   "id": "7f0c8050-7b54-44ca-9e1c-57cafe3124fd",
   "metadata": {},
   "source": [
    "## Check if File exist"
   ]
  },
  {
   "cell_type": "code",
   "execution_count": 4,
   "id": "800afa56-cdb7-4a0f-9e6e-0b51c7d685de",
   "metadata": {},
   "outputs": [
    {
     "name": "stdout",
     "output_type": "stream",
     "text": [
      "The file does not exist\n"
     ]
    }
   ],
   "source": [
    "import os\n",
    "if os.path.exists(\"jiven.txt\"):\n",
    "  os.remove(\"jiven.txt\")\n",
    "else:\n",
    "  print(\"The file does not exist\")"
   ]
  },
  {
   "cell_type": "markdown",
   "id": "b5f55678-0ddf-4735-ad37-891a3ae5b201",
   "metadata": {},
   "source": [
    "## Delete Folder"
   ]
  },
  {
   "cell_type": "code",
   "execution_count": 6,
   "id": "62c6dcb1-4b61-4315-9ec4-22f6baa66edf",
   "metadata": {},
   "outputs": [],
   "source": [
    "import os\n",
    "os.rmdir(\"demo\")"
   ]
  },
  {
   "cell_type": "markdown",
   "id": "566dc407",
   "metadata": {},
   "source": [
    "## Strip Function - Use to remove extra charater or spaces or Delimiter (\\n)"
   ]
  },
  {
   "cell_type": "markdown",
   "id": "10c262c7",
   "metadata": {},
   "source": [
    "strip() - Removes the given character from both ends.\n",
    "\n",
    "lstrip() - Removes the given character from leading end (left end)\n",
    "\n",
    "\n",
    "rstrip- Removes the given character from leading end (right end)"
   ]
  },
  {
   "cell_type": "code",
   "execution_count": null,
   "id": "a6a22d85-298d-478a-b610-e174dec3b8de",
   "metadata": {},
   "outputs": [],
   "source": [
    "\n"
   ]
  },
  {
   "cell_type": "markdown",
   "id": "023cb900",
   "metadata": {},
   "source": [
    "## Read/ Write a Binary File"
   ]
  },
  {
   "cell_type": "markdown",
   "id": "8fbaa9a2",
   "metadata": {},
   "source": [
    "### Use plicle Modlue - Import pickle"
   ]
  },
  {
   "cell_type": "markdown",
   "id": "e0eeacd9",
   "metadata": {},
   "source": [
    "#### load- read -  \n",
    "dump- write- object to be written"
   ]
  },
  {
   "cell_type": "code",
   "execution_count": null,
   "id": "35a9f2de",
   "metadata": {},
   "outputs": [],
   "source": []
  },
  {
   "cell_type": "code",
   "execution_count": 1,
   "id": "2afc10ce-5383-48ca-b332-82b29581f893",
   "metadata": {},
   "outputs": [
    {
     "name": "stdout",
     "output_type": "stream",
     "text": [
      "22\n",
      "{'key': 'value'}\n"
     ]
    }
   ],
   "source": [
    "import pickle\n",
    "\n",
    "# Open 'File1.txt' in write mode and 'File1.dat' in binary write mode\n",
    "a = open('File1.txt', 'w')\n",
    "b = open('File1.dat', 'wb')\n",
    "\n",
    "# Writing a string to the text file\n",
    "p = a.write(\"This is some text data\")\n",
    "print(p)  # prints the number of characters written\n",
    "\n",
    "# Saving some data to 'File1.dat' using pickle\n",
    "pickle.dump({\"key\": \"value\"}, b)\n",
    "\n",
    "# Closing the files\n",
    "a.close()\n",
    "b.close()\n",
    "\n",
    "# Now read back the pickled data\n",
    "b = open('File1.dat', 'rb')\n",
    "q = pickle.load(b)\n",
    "print(q)  # prints the data loaded from the binary file\n",
    "\n",
    "# Close the file\n",
    "b.close()\n"
   ]
  },
  {
   "cell_type": "raw",
   "id": "889fd413-3294-4656-8cf2-f1a2cfeaae61",
   "metadata": {},
   "source": [
    " the string \"This is some text data\" to the file, which contains 22 characters (including spaces). \n",
    "\n",
    "\"This is some text data\" consists of:\n",
    "4 characters in \"This\"\n",
    "1 space after \"This\"\n",
    "2 characters in \"is\"\n",
    "1 space after \"is\"\n",
    "4 characters in \"some\"\n",
    "1 space after \"some\"\n",
    "4 characters in \"text\"\n",
    "1 space after \"text\"\n",
    "4 characters in \"data\"\n",
    "So, 4 + 1 + 2 + 1 + 4 + 1 + 4 + 1 + 4 = 22 characters in total.\n",
    "\n",
    "That's why the output of print(p) will be 22, indicating that 22 characters were written to the file."
   ]
  },
  {
   "cell_type": "markdown",
   "id": "88186722",
   "metadata": {},
   "source": [
    "## Delete a File"
   ]
  },
  {
   "cell_type": "markdown",
   "id": "7b6e8d5a",
   "metadata": {},
   "source": [
    "### To delete a file, you must import the OS module, and run its os.remove() function"
   ]
  },
  {
   "cell_type": "code",
   "execution_count": 1,
   "id": "a522acfb",
   "metadata": {},
   "outputs": [
    {
     "ename": "FileNotFoundError",
     "evalue": "[WinError 2] The system cannot find the file specified: 'demofile.txt'",
     "output_type": "error",
     "traceback": [
      "\u001b[1;31m---------------------------------------------------------------------------\u001b[0m",
      "\u001b[1;31mFileNotFoundError\u001b[0m                         Traceback (most recent call last)",
      "Cell \u001b[1;32mIn[1], line 2\u001b[0m\n\u001b[0;32m      1\u001b[0m \u001b[38;5;28;01mimport\u001b[39;00m \u001b[38;5;21;01mos\u001b[39;00m\n\u001b[1;32m----> 2\u001b[0m os\u001b[38;5;241m.\u001b[39mremove(\u001b[38;5;124m\"\u001b[39m\u001b[38;5;124mdemofile.txt\u001b[39m\u001b[38;5;124m\"\u001b[39m)\n",
      "\u001b[1;31mFileNotFoundError\u001b[0m: [WinError 2] The system cannot find the file specified: 'demofile.txt'"
     ]
    }
   ],
   "source": [
    "import os\n",
    "os.remove(\"demofile.txt\")"
   ]
  },
  {
   "cell_type": "code",
   "execution_count": 35,
   "id": "e20de819",
   "metadata": {},
   "outputs": [],
   "source": [
    "with open('alok4.txt','w') as file:\n",
    "    file.write('aman\\nSonali\\nShriya\\nAman Khan\\nMahi\\nVinit')"
   ]
  },
  {
   "cell_type": "code",
   "execution_count": 36,
   "id": "a9a6630d",
   "metadata": {},
   "outputs": [
    {
     "name": "stdout",
     "output_type": "stream",
     "text": [
      "aman\n",
      "Sonali\n",
      "Shriya\n",
      "Aman Khan\n",
      "Mahi\n",
      "Vinit\n"
     ]
    }
   ],
   "source": [
    "with open('alok4.txt','r') as file:\n",
    "    content=file.read()\n",
    "    print(content)"
   ]
  },
  {
   "cell_type": "code",
   "execution_count": 37,
   "id": "3db19662",
   "metadata": {},
   "outputs": [],
   "source": [
    "data=['Aman Jain','Aman Khan ','Bhupesh','Shriya','Vinit']\n",
    "with open('alok5.txt','w') as file:\n",
    "    for i in data:\n",
    "        file.write(i+ '\\n')"
   ]
  },
  {
   "cell_type": "code",
   "execution_count": 38,
   "id": "0549c725",
   "metadata": {},
   "outputs": [
    {
     "name": "stdout",
     "output_type": "stream",
     "text": [
      "Aman Jain\n",
      "Aman Khan \n",
      "Bhupesh\n",
      "Shriya\n",
      "Vinit\n",
      "\n"
     ]
    }
   ],
   "source": [
    "with open('alok5.txt','r') as file:\n",
    "    content=file.read()\n",
    "    print(content)"
   ]
  },
  {
   "cell_type": "code",
   "execution_count": null,
   "id": "255b13d6",
   "metadata": {},
   "outputs": [],
   "source": []
  }
 ],
 "metadata": {
  "kernelspec": {
   "display_name": "Python 3 (ipykernel)",
   "language": "python",
   "name": "python3"
  },
  "language_info": {
   "codemirror_mode": {
    "name": "ipython",
    "version": 3
   },
   "file_extension": ".py",
   "mimetype": "text/x-python",
   "name": "python",
   "nbconvert_exporter": "python",
   "pygments_lexer": "ipython3",
   "version": "3.12.4"
  }
 },
 "nbformat": 4,
 "nbformat_minor": 5
}
